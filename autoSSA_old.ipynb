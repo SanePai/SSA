{
  "nbformat": 4,
  "nbformat_minor": 0,
  "metadata": {
    "colab": {
      "provenance": [],
      "authorship_tag": "ABX9TyNPeEQYrMywlcubWPrHa2TS",
      "include_colab_link": true
    },
    "kernelspec": {
      "name": "python3",
      "display_name": "Python 3"
    }
  },
  "cells": [
    {
      "cell_type": "markdown",
      "metadata": {
        "id": "view-in-github",
        "colab_type": "text"
      },
      "source": [
        "<a href=\"https://colab.research.google.com/github/SanePai/SSA/blob/main/autoSSA_old.ipynb\" target=\"_parent\"><img src=\"https://colab.research.google.com/assets/colab-badge.svg\" alt=\"Open In Colab\"/></a>"
      ]
    },
    {
      "cell_type": "code",
      "metadata": {
        "id": "RADx8XumUrty"
      },
      "source": [],
      "execution_count": null,
      "outputs": []
    },
    {
      "cell_type": "markdown",
      "metadata": {
        "id": "geMHzLYIRDP6"
      },
      "source": [
        "# old\n"
      ]
    },
    {
      "cell_type": "code",
      "metadata": {
        "id": "B9Arfht0Z70U"
      },
      "source": [
        "# #N\n",
        "# N = len(ts)\n",
        "# #L 2 <= L <= N/2\n",
        "# L = 70 #Window Length\n",
        "# #K Number of Columns in the Trajectory Matrix\n",
        "# K = N-L+1\n",
        "# print(f'Realization length(N):\\t{N}\\nWindow Length(L):\\t{L}\\nK:\\t\\t\\t{K}')\n",
        "# #Trajectory Matrix\n",
        "# X = np.column_stack([ts[i:i+L] for i in range(K)])\n",
        "# print(f\"Trajectory Matrix:\\n{X}\")"
      ],
      "execution_count": null,
      "outputs": []
    },
    {
      "cell_type": "code",
      "metadata": {
        "id": "CJ9ZGgW3Z-ke"
      },
      "source": [
        "# #U = left singular vectors\n",
        "# #V = Right singular vectors\n",
        "# #E(Sigma) = Singular Values\n",
        "# #d = Rank of the trajectory matrix\n",
        "# d = np.linalg.matrix_rank(X)\n",
        "# U,s,vh = np.linalg.svd(X)\n",
        "# E = np.diag(s)\n",
        "# V = np.transpose(vh)"
      ],
      "execution_count": null,
      "outputs": []
    },
    {
      "cell_type": "code",
      "metadata": {
        "id": "7s8xBM3LaBGE"
      },
      "source": [
        "# X_elem = np.array( [s[i] * np.outer(U[:,i], V[:,i]) for i in range(0,d)] )\n",
        "# np.shape(X_elem[0])"
      ],
      "execution_count": null,
      "outputs": []
    },
    {
      "cell_type": "code",
      "metadata": {
        "id": "5iUPRmn7aCni"
      },
      "source": [
        "# for i in range(d):\n",
        "#     plt.matshow(X_elem[i])"
      ],
      "execution_count": null,
      "outputs": []
    },
    {
      "cell_type": "code",
      "metadata": {
        "id": "59qwmpQhaEZ2"
      },
      "source": [
        "# plt.figure(figsize = (30,20))\n",
        "# plt.plot(range(len(s)),s,'red')\n",
        "# for a,b in zip(range(len(s)),s):\n",
        "#     plt.text(a,b,str(b))\n",
        "# plt.show()"
      ],
      "execution_count": null,
      "outputs": []
    },
    {
      "cell_type": "code",
      "metadata": {
        "id": "swE3PXlWqVO7"
      },
      "source": [
        "# def diag_avg(X):\n",
        "#     X_rev = np.fliplr(X)\n",
        "#     m,n = np.shape(X)\n",
        "#     x = np.array([X_rev.diagonal(i).mean() for i in range(-m+1, n)])\n",
        "#     return x[::-1]"
      ],
      "execution_count": null,
      "outputs": []
    },
    {
      "cell_type": "code",
      "metadata": {
        "id": "ZfLqSk-aqWhO"
      },
      "source": [
        "# xts = []\n",
        "# for i in range(70):\n",
        "#     xts.append(diag_avg(X_elem[i]))\n",
        "# xts = np.array(xts)\n",
        "# xts.shape"
      ],
      "execution_count": null,
      "outputs": []
    },
    {
      "cell_type": "code",
      "metadata": {
        "id": "_jLrreOfoKqq"
      },
      "source": [
        "# ts.resize(200,1)"
      ],
      "execution_count": null,
      "outputs": []
    },
    {
      "cell_type": "code",
      "metadata": {
        "id": "K2tFIII5aINc"
      },
      "source": [
        "# dendrogram = sch.dendrogram(sch.linkage(xts, method='ward'))"
      ],
      "execution_count": null,
      "outputs": []
    },
    {
      "cell_type": "code",
      "metadata": {
        "id": "Yq7-rj2jOF9A"
      },
      "source": [
        "# model = ac(n_clusters = 5, affinity = 'euclidean', linkage = 'ward')\n",
        "# model.fit(xts)\n",
        "# labels = model.labels_"
      ],
      "execution_count": null,
      "outputs": []
    },
    {
      "cell_type": "code",
      "metadata": {
        "id": "6b3d-51XOiEn"
      },
      "source": [
        "# f0 = xts[labels==0]\n",
        "# f1 = xts[labels==1]\n",
        "# f2 = xts[labels==2]\n",
        "# f3 = xts[labels==3]\n",
        "# f4 = xts[labels==4]"
      ],
      "execution_count": null,
      "outputs": []
    },
    {
      "cell_type": "code",
      "metadata": {
        "id": "3o7KJfMLpf-H"
      },
      "source": [
        "# np.shape(f0)"
      ],
      "execution_count": null,
      "outputs": []
    },
    {
      "cell_type": "code",
      "metadata": {
        "id": "6sYg2JI5u1Ek"
      },
      "source": [
        "# x0 = 0\n",
        "# for i in f0:\n",
        "#     x0 += i\n",
        "# x1 = 0\n",
        "# for i in f1:\n",
        "#     x1 += i\n",
        "# x2 = 0\n",
        "# for i in f2:\n",
        "#     x2 += i\n",
        "# x3 = 0\n",
        "# for i in f3:\n",
        "#     x3 += i\n",
        "# x4 = 0\n",
        "# for i in f4:\n",
        "#     x4 += i\n"
      ],
      "execution_count": null,
      "outputs": []
    },
    {
      "cell_type": "code",
      "metadata": {
        "id": "CBZovePZx3b0"
      },
      "source": [
        "# plt.figure(figsize=(20,10))\n",
        "# plt.plot(x4, 'r')\n",
        "# plt.plot(x3, 'b')\n",
        "# plt.plot(x2, 'g')\n",
        "# plt.plot(x1, 'cyan')\n",
        "# plt.plot(x0, 'black')\n",
        "# plt.plot(per, 'r+')\n",
        "# plt.plot(x0+x4,'bo')\n",
        "# plt.show()"
      ],
      "execution_count": null,
      "outputs": []
    },
    {
      "cell_type": "code",
      "metadata": {
        "id": "ErhWGXWvxXb3"
      },
      "source": [
        "# '''\n",
        "# x0+x4 <- per\n",
        "# x1 <- noise\n",
        "# x2+x3 <- trend\n",
        "# '''"
      ],
      "execution_count": null,
      "outputs": []
    },
    {
      "cell_type": "code",
      "metadata": {
        "id": "ybTyGH8oxr9G"
      },
      "source": [
        "# plt.figure(figsize=(20,10))\n",
        "# plt.plot(x0+x4, 'red')\n",
        "# plt.plot(per, 'blue')\n",
        "# plt.title('Periodic Combined', color = 'r')\n",
        "# plt.show()\n",
        "\n",
        "\n",
        "# plt.figure(figsize=(20,10))\n",
        "# plt.plot(x2+x3, 'red')\n",
        "# plt.plot(trend, 'b')\n",
        "# plt.title(\"Trend\", color = 'r')\n",
        "# plt.show()\n",
        "\n",
        "\n",
        "# plt.figure(figsize=(20,10))\n",
        "# plt.plot(x1, 'r+')\n",
        "# plt.plot(noise)\n",
        "# plt.title(\"Noise\", color = 'r')\n",
        "# plt.show()"
      ],
      "execution_count": null,
      "outputs": []
    }
  ]
}